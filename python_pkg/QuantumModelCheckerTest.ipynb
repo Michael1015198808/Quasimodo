{
  "nbformat": 4,
  "nbformat_minor": 0,
  "metadata": {
    "colab": {
      "provenance": [],
      "authorship_tag": "ABX9TyMvwKTmu7u1dCP27/CFX4Ii",
      "include_colab_link": true
    },
    "kernelspec": {
      "name": "python3",
      "display_name": "Python 3"
    },
    "language_info": {
      "name": "python"
    }
  },
  "cells": [
    {
      "cell_type": "markdown",
      "metadata": {
        "id": "view-in-github",
        "colab_type": "text"
      },
      "source": [
        "<a href=\"https://colab.research.google.com/github/cs14b052/QuantumCircuitModelChecker/blob/main/python_pkg/QuantumModelCheckerTest.ipynb\" target=\"_parent\"><img src=\"https://colab.research.google.com/assets/colab-badge.svg\" alt=\"Open In Colab\"/></a>"
      ]
    },
    {
      "cell_type": "code",
      "execution_count": 1,
      "metadata": {
        "id": "H-Ft1cxGWPos"
      },
      "outputs": [],
      "source": [
        "import pyqcmc"
      ]
    },
    {
      "cell_type": "code",
      "source": [],
      "metadata": {
        "id": "rDrb8vq-gezl"
      },
      "execution_count": null,
      "outputs": []
    }
  ]
}